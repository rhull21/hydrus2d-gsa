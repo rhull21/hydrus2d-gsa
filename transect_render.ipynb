{
 "cells": [
  {
   "attachments": {},
   "cell_type": "markdown",
   "metadata": {},
   "source": [
    "## A data wrangling application for Hydrus-2D\n",
    "#### Structure \n",
    "1. Simple Example for using `sample_items`, custom module to load hydrus 2d outputs \n",
    "2. Workflow for automated section output into csv \n"
   ]
  },
  {
   "cell_type": "code",
   "execution_count": 2,
   "metadata": {},
   "outputs": [],
   "source": [
    "import sys \n",
    "import os\n",
    "from samples import sample_items, read_item, get_sets_from_collection, get_set_from_collection, write_horizontal_sheet\n",
    "import xarray as xr\n",
    "import numpy as np\n",
    "import pandas as pd"
   ]
  },
  {
   "attachments": {},
   "cell_type": "markdown",
   "metadata": {},
   "source": [
    "### 1. Simple Example for using `sample_items`, custom module to load hydrus 2d outputs \n",
    "\n",
    "* uses file naming structure of hydrus-2d outputs to give meaningful attributes to data\n",
    "* uses meaningful attributes to build collection of hydrus-2d transects with meaningful metadata"
   ]
  },
  {
   "cell_type": "code",
   "execution_count": 3,
   "metadata": {},
   "outputs": [
    {
     "name": "stderr",
     "output_type": "stream",
     "text": [
      "c:\\Users\\QuinnHull\\OneDrive\\Workspace\\Work\\05_GSA\\03_projects\\02_software\\03_python\\hydrus2d-gsa\\hydrus2d-gsa\\samples.py:144: VisibleDeprecationWarning: Reading unicode strings without specifying the encoding argument is deprecated. Set the encoding, use None for the system default.\n",
      "  self.time_info = np.genfromtxt(fname=path, names=True, delimiter=',', dtype=None)\n"
     ]
    }
   ],
   "source": [
    "# directory of data in owncloud **MODIFY FOR YOUR FILES**\n",
    "directory = 'c:/Users/QuinnHull/ownCloud-active jobs/BHP Chile/2150 - BHP Chile - MEL Permeability Testing Program for SHL Ores/Hydrus model/Sulphide AND SCC'\n",
    "\n",
    "# custom module `sample_items, read in from samples.py`\n",
    "sample = sample_items(sample_directory=directory)\n",
    "times = sample.get_unique_times() # export times\n",
    "schemes = sample.get_unique_schemes() # experiment schemes \n",
    "sections = sample.get_unique_sections() # section names\n",
    "paths = sample.get_paths() # paths to data\n",
    "time_info = sample.get_time_info() # detailed information about the meaning of time\n",
    "sample_collection = sample.make_sample_collection() # collection of data\n"
   ]
  },
  {
   "attachments": {},
   "cell_type": "markdown",
   "metadata": {},
   "source": [
    "#### Interrogate Attrbitues of Collection from `sample_items`\n",
    "* this is what is read in from the file structure of the directory to make sense of the contents of files"
   ]
  },
  {
   "cell_type": "code",
   "execution_count": 4,
   "metadata": {},
   "outputs": [
    {
     "name": "stdout",
     "output_type": "stream",
     "text": [
      "times [24.0, 384.0, 12.0, 48.0, 273.0, 96.0, 12.0, 6.0, 4.75, 1.0, 8.0, 6.0, 3.5, 420.0, 4.75, 2.0, 48.0, 88.0, 48.0, 5.375, 48.0, 384.0, 12.0, 6.5, 384.0, 48.0, 12.0, 3.5, 12.0, 276.0, 6.0] \n",
      "\n",
      "schemes ['1', '2', '3', '4', '5', '6', '7'] \n",
      "\n",
      "sections ['Cross-Section_No_1_-_Top', 'Cross-Section_No_2_-_5_cm', 'Cross-Section_No_3_-_10_cm', 'Cross-Section_No_4_-_15cm', 'Cross-Section_No_5_-_30cm', 'Cross-Section_No_6_-_60cm', 'Cross-Section_No_7_-_100cm', 'Cross-Section_No_8_-_200cm', 'Mesh-Line_No_1_-_V0cm', 'Mesh-Line_No_2_-_V25cm'] \n",
      "\n",
      "where_periods [b'After ON period' b'Before next ON period' b'Mid OFF period'\n",
      " b'Mid ON period'] \n",
      "\n",
      "where_irrigation [   9.55   19.1    38.2    57.3    76.39  152.79 1680.68] \n",
      "\n"
     ]
    }
   ],
   "source": [
    "print('times', [time for time in times.values()], '\\n')\n",
    "\n",
    "print('schemes', [str(scheme) for scheme in schemes.values()], '\\n')\n",
    "print('sections', [section for section in sections.keys()], '\\n')\n",
    "time_info = sample.get_time_info()\n",
    "print('where_periods', np.unique(time_info['period']), '\\n')\n",
    "print('where_irrigation', np.unique(time_info['ï»¿cum_irr_cm']), '\\n')"
   ]
  },
  {
   "attachments": {},
   "cell_type": "markdown",
   "metadata": {},
   "source": [
    "#### Basic Data Extraction\n",
    "* this is how the module combines the metadata and data to build custom mini-collections of data. \n",
    "    * This is used later to write into excel documents\n",
    "    * Also helpful for custom plotting in python (tbd)"
   ]
  },
  {
   "cell_type": "code",
   "execution_count": 5,
   "metadata": {},
   "outputs": [
    {
     "name": "stdout",
     "output_type": "stream",
     "text": [
      "Example Content for metadata on cumulative irrigation fraction\n",
      "['Cross-Section_No_1_-_Top', 'Cross-Section_No_1_-_Top', 'Cross-Section_No_1_-_Top', 'Cross-Section_No_1_-_Top']\n",
      "[19.1, 38.2, 152.79, 1680.68]\n",
      "['1', '1', '1', '1']\n"
     ]
    }
   ],
   "source": [
    "section = 'Cross-Section_No_1_-_Top'\n",
    "scheme = '1'\n",
    "where_period = b'Before next ON period'\n",
    "where_irrigation = None #  9.55\n",
    "\n",
    "li = get_set_from_collection(scheme=scheme,section=section,sample_collection=sample_collection, where_period=where_period, where_irrigation=where_irrigation)\n",
    "print('Example Content for metadata on cumulative irrigation fraction')\n",
    "print([l.attrs['section'] for l in li])\n",
    "print([l.attrs['time_info']['cumulative_irrigation_cm'][0] for l in li])\n",
    "print([l.attrs['scheme'] for l in li])"
   ]
  },
  {
   "attachments": {},
   "cell_type": "markdown",
   "metadata": {},
   "source": [
    "### Putting it all together for automated Series Creation"
   ]
  },
  {
   "attachments": {},
   "cell_type": "markdown",
   "metadata": {},
   "source": [
    "##### Reinitializing Everything"
   ]
  },
  {
   "cell_type": "code",
   "execution_count": 6,
   "metadata": {},
   "outputs": [],
   "source": [
    "directory = 'c:/Users/QuinnHull/ownCloud-active jobs/BHP Chile/2150 - BHP Chile - MEL Permeability Testing Program for SHL Ores/Hydrus model/Sulphide AND SCC'\n",
    "\n",
    "sample = sample_items(sample_directory=directory)\n",
    "\n",
    "times = sample.get_unique_times()\n",
    "schemes = sample.get_unique_schemes()\n",
    "sections = sample.get_unique_sections()\n",
    "paths = sample.get_paths()\n",
    "time_info = sample.get_time_info()\n",
    "sample_collection = sample.make_sample_collection()\n",
    "\n",
    "periods = np.unique(time_info['period'])\n",
    "irrigation_rates = np.unique(time_info['ï»¿cum_irr_cm'])\n",
    "\n",
    "sections = [key for value, key in enumerate(sections)]\n",
    "hsections, vsections = sections[:-2], sections[-2:]\n",
    "schemes = [str(value+1) for value, key in enumerate(schemes)]\n",
    "\n"
   ]
  },
  {
   "attachments": {},
   "cell_type": "markdown",
   "metadata": {},
   "source": [
    "#### Saving Directories"
   ]
  },
  {
   "cell_type": "code",
   "execution_count": 7,
   "metadata": {},
   "outputs": [],
   "source": [
    "save_dir = sample.sample_name \n",
    "save_dir_arr = [os.path.join(save_dir, str(period)) for period in periods]\n",
    "save_dir_arr.append(save_dir)\n",
    "\n",
    "for save in save_dir_arr:\n",
    "    if not os.path.exists(save):\n",
    "        os.makedirs(save)"
   ]
  },
  {
   "attachments": {},
   "cell_type": "markdown",
   "metadata": {},
   "source": [
    "#### Creating Vertical and Horizontal Sections"
   ]
  },
  {
   "cell_type": "code",
   "execution_count": 8,
   "metadata": {},
   "outputs": [],
   "source": [
    "for section in hsections:\n",
    "    write_horizontal_sheet(section=section, schemes=schemes, sample_collection=sample_collection, where_period=b'Before next ON period', where_irrigation=None, save_dir=save_dir,  insert_list=['cumulative_irrigation_cm', 'scheme'])\n"
   ]
  },
  {
   "cell_type": "code",
   "execution_count": 9,
   "metadata": {},
   "outputs": [
    {
     "name": "stdout",
     "output_type": "stream",
     "text": [
      "No Data in collection \n",
      "No Data in collection \n",
      "No Data in collection \n",
      "No Data in collection \n",
      "No Data in collection \n",
      "No Data in collection \n",
      "No Data in collection \n",
      "No Data in collection \n",
      "No Data in collection \n",
      "No Data in collection \n",
      "No Data in collection \n",
      "No Data in collection \n",
      "No Data in collection \n",
      "No Data in collection \n"
     ]
    }
   ],
   "source": [
    "for section in vsections:\n",
    "    for where_period in periods:\n",
    "        write_horizontal_sheet(section=section, schemes=schemes, sample_collection=sample_collection, where_period=where_period, where_irrigation=None, save_dir=os.path.join(save_dir, str(where_period)),  insert_list=['cumulative_irrigation_cm', 'scheme'])\n"
   ]
  },
  {
   "cell_type": "code",
   "execution_count": null,
   "metadata": {},
   "outputs": [],
   "source": []
  }
 ],
 "metadata": {
  "kernelspec": {
   "display_name": "GSA1",
   "language": "python",
   "name": "python3"
  },
  "language_info": {
   "codemirror_mode": {
    "name": "ipython",
    "version": 3
   },
   "file_extension": ".py",
   "mimetype": "text/x-python",
   "name": "python",
   "nbconvert_exporter": "python",
   "pygments_lexer": "ipython3",
   "version": "3.8.13"
  },
  "orig_nbformat": 4,
  "vscode": {
   "interpreter": {
    "hash": "0afd8397ae964d6ca7407164ddb0a44c8f3a4888703f7ac93811577c057ba24a"
   }
  }
 },
 "nbformat": 4,
 "nbformat_minor": 2
}
